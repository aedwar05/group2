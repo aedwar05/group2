{
 "cells": [
  {
   "cell_type": "markdown",
   "metadata": {},
   "source": [
    "Group 2 Project "
   ]
  },
  {
   "cell_type": "code",
   "execution_count": 1,
   "metadata": {},
   "outputs": [
    {
     "name": "stdout",
     "output_type": "stream",
     "text": [
      "\u001b[33mYou are using pip version 18.1, however version 19.1 is available.\n",
      "You should consider upgrading via the 'pip install --upgrade pip' command.\u001b[0m\n"
     ]
    }
   ],
   "source": [
    "!pip install -q requests\n",
    "import requests\n",
    "import json "
   ]
  },
  {
   "cell_type": "code",
   "execution_count": 13,
   "metadata": {},
   "outputs": [],
   "source": [
    "url = 'https://www.dictionaryapi.com/api/v3/references/collegiate/json/voluminous?key=a815cba9-1e2d-4d73-82e6-7d7d8e61fe45'\n",
    "response = requests.get(url)\n",
    "\n",
    "\n",
    "#below is the base url for audio \n",
    "url = 'https://media.merriam-webster.com/soundc11/'"
   ]
  },
  {
   "cell_type": "code",
   "execution_count": 10,
   "metadata": {},
   "outputs": [
    {
     "ename": "SyntaxError",
     "evalue": "invalid syntax (<ipython-input-10-a5494a75f399>, line 11)",
     "output_type": "error",
     "traceback": [
      "\u001b[0;36m  File \u001b[0;32m\"<ipython-input-10-a5494a75f399>\"\u001b[0;36m, line \u001b[0;32m11\u001b[0m\n\u001b[0;31m    if spelling =get_ipython().getoutput(' \"id\"')\u001b[0m\n\u001b[0m                ^\u001b[0m\n\u001b[0;31mSyntaxError\u001b[0m\u001b[0;31m:\u001b[0m invalid syntax\n"
     ]
    }
   ],
   "source": [
    "print(\"Hello and Welcome to our Spelling Bee! This is a game to help students learn to spell after hearing the word! If you want the word repeated for you, type repeat, if you want to quit the game, type quit. The rules to the game are as follows, you will start with 3 lives each time you spell a word inncorrectly you lose a life, if you still have lives left after 10 words you win! \")\n",
    "#input random word from api???\n",
    "lives = int(5)\n",
    "\n",
    "spelling = input (\"Enter spelling of the word you hear!\")\n",
    "\n",
    "\n",
    "if spelling == \"id\":\n",
    "    print(\"correct\")\n",
    "    print (lives)\n",
    "if spelling =! \"id\"\n",
    "    print(\"incorrect minus one life\")\n",
    "    lives = lives - 1\n",
    "    print (lives)\n",
    "\n",
    "    "
   ]
  },
  {
   "cell_type": "code",
   "execution_count": null,
   "metadata": {},
   "outputs": [],
   "source": []
  }
 ],
 "metadata": {
  "kernelspec": {
   "display_name": "Python 3",
   "language": "python",
   "name": "python3"
  },
  "language_info": {
   "codemirror_mode": {
    "name": "ipython",
    "version": 3
   },
   "file_extension": ".py",
   "mimetype": "text/x-python",
   "name": "python",
   "nbconvert_exporter": "python",
   "pygments_lexer": "ipython3",
   "version": "3.6.6"
  }
 },
 "nbformat": 4,
 "nbformat_minor": 2
}
