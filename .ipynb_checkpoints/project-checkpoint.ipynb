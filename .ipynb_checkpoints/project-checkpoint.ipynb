{
 "cells": [
  {
   "cell_type": "markdown",
   "metadata": {},
   "source": [
    "Group Project Alyson and John - Spelling Bee"
   ]
  },
  {
   "cell_type": "code",
   "execution_count": null,
   "metadata": {},
   "outputs": [],
   "source": []
  },
  {
   "cell_type": "code",
   "execution_count": 4,
   "metadata": {},
   "outputs": [
    {
     "ename": "SyntaxError",
     "evalue": "EOL while scanning string literal (<ipython-input-4-6b28bdf25a5d>, line 13)",
     "output_type": "error",
     "traceback": [
      "\u001b[0;36m  File \u001b[0;32m\"<ipython-input-4-6b28bdf25a5d>\"\u001b[0;36m, line \u001b[0;32m13\u001b[0m\n\u001b[0;31m    \"\"\"\"\u001b[0m\n\u001b[0m        \n^\u001b[0m\n\u001b[0;31mSyntaxError\u001b[0m\u001b[0;31m:\u001b[0m EOL while scanning string literal\n"
     ]
    }
   ],
   "source": [
    "##url = 'https://api.wordnik.com/v4/words.json/randomWord?hasDictionaryDef=true&maxCorpusCount=-1&minDictionaryCount=1&maxDictionaryCount=-1&minLength=5&maxLength=-1&api_key=YOURAPIKEY'\n",
    "\n",
    "#url = 'https://www.dictionaryapi.com/api/v3/references/collegiate/json/voluminous?key=a815cba9-1e2d-4d73-82e6-7d7d8e61fe45'\n",
    "#response = requests.get(url)\n",
    "\n",
    "#url = 'https://www.dictionaryapi.com/api/v3/references/collegiate/json/lightning?key=a815cba9-1e2d-4d73-82e6-7d7d8e61fe45'\n",
    "#response = requests.get(url)\n",
    "\"\"\"\"\n",
    "this cell would have given a random word from the webester dictionary but we were unable \n",
    "to pay for an instant API and we were not approved by the website in time for the project\n",
    "we commented out the code since this did not work\n",
    "\n",
    "\"\"\"\"\n",
    "\n"
   ]
  },
  {
   "cell_type": "code",
   "execution_count": null,
   "metadata": {},
   "outputs": [],
   "source": []
  },
  {
   "cell_type": "code",
   "execution_count": 3,
   "metadata": {},
   "outputs": [
    {
     "ename": "SyntaxError",
     "evalue": "invalid syntax (<ipython-input-3-2bc595aed375>, line 19)",
     "output_type": "error",
     "traceback": [
      "\u001b[0;36m  File \u001b[0;32m\"<ipython-input-3-2bc595aed375>\"\u001b[0;36m, line \u001b[0;32m19\u001b[0m\n\u001b[0;31m    prPurple (\"Hello and Welcome to our Spelling Bee! This is a game to test your spelling! If you want the word repeated for you, press the play button, if you want to quit the game, type quit at any time. The rules to the game are as follows, you will start with 2 lives each time you spell a word inncorrectly you will lose a life, if you still have lives left after 5 words you win! \")\u001b[0m\n\u001b[0m           ^\u001b[0m\n\u001b[0;31mSyntaxError\u001b[0m\u001b[0;31m:\u001b[0m invalid syntax\n"
     ]
    }
   ],
   "source": [
    "import requests\n",
    "from gtts import gTTS\n",
    "import IPython.display as ipd\n",
    "from IPython.core.display import display\n",
    "\n",
    "import matplotlib.pyplot as plt\n",
    "import matplotlib.image as mpimg\n",
    "img=mpimg.imread('welcome.png')\n",
    "imgplot = plt.imshow(img)\n",
    "plt.axis('off')\n",
    "plt.show()\n",
    "\n",
    "\n",
    "def prPurple(skk): print(\"\\033[95m {}\\033[00m\" .format(skk)) \n",
    "def prCyan(skk): print(\"\\033[96m {}\\033[00m\" .format(skk)) \n",
    "def prRed(skk): print(\"\\033[91m {}\\033[00m\" .format(skk)) \n",
    "def prGreen(skk): print(\"\\033[92m {}\\033[00m\" .format(skk)\n",
    "    \n",
    "prPurple (\"Hello and Welcome to our Spelling Bee! This is a game to test your spelling! If you want the word repeated for you, press the play button, if you want to quit the game, type quit at any time. The rules to the game are as follows, you will start with 2 lives each time you spell a word inncorrectly you will lose a life, if you still have lives left after 5 words you win! \")\n",
    "prCyan(\"GOOD LUCK!! Don't forget you can always try again and spell new words!\")\n",
    "\n",
    "#print(\"Hello and Welcome to our Spelling Bee! This is a game to test your spelling! If you want the word repeated for you, press the play button, if you want to quit the game, type quit at any time. The rules to the game are as follows, you will start with 2 lives each time you spell a word inncorrectly you will lose a life, if you still have lives left after 5 words you win! \")\n",
    "\n",
    "import random\n",
    "wordlist = ['acrylic', 'reminisce', 'anonymous', 'supersede','lightning', 'gist', 'tattoo', 'depth', 'absence', 'acknowledge', 'receipt', 'secretary', 'tomorrow', 'rhyme' , 'privilege', 'quarantine', 'mischievous', 'midieval', 'library', 'accommodate', 'lollipop', 'beautiful', 'appreciation', 'chameleon', 'nourishment', 'peninsula', 'relief']\n",
    "\n",
    "\n",
    "def get_word():\n",
    "    \"\"\"\n",
    "    This function returrns a random word\n",
    "    \n",
    "    Commented code is for api use\n",
    "    \"\"\"\n",
    "    # url = 'https://www.dictionaryapi.com/api/v3/references/collegiate/json/%s?key=a815cba9-1e2d-4d73-82e6-7d7d8e61fe45' % word\n",
    "    # response = requests.get(url)\n",
    "    # return response.json()\n",
    "    return random.choice(wordlist)\n",
    "\n",
    "\n",
    "def play(word):\n",
    "    language = 'en'\n",
    "    myobj = gTTS (text=word, lang=language, slow=False)\n",
    "    myobj.save(\"word.mp3\")\n",
    "    audobj = ipd.Audio('word.mp3', autoplay=True)\n",
    "    display(audobj)\n",
    "    return audobj\n",
    "\n",
    "lives = int(2)\n",
    "turns = 1\n",
    "correct_spelling = 0\n",
    "\n",
    "while turns < 6:\n",
    "    word = get_word()\n",
    "    play(word)\n",
    "    wordlist.remove(word)\n",
    "    spelling_word = input(\"Spell the word you heard:\")\n",
    "    if spelling_word.lower() == word:\n",
    "        prGreen(\"CORRECT\")\n",
    "        print(\"You have\",lives,\"lives left! Keep going!\")\n",
    "        correct_spelling = correct_spelling + 1\n",
    "        if correct_spelling == 5:\n",
    "            print (\"Congrats you win the Spelling Bee!\")\n",
    "            import matplotlib.pyplot as plt\n",
    "            import matplotlib.image as mpimg\n",
    "            img=mpimg.imread('Winning-Bee-228x300.png')\n",
    "            imgplot = plt.imshow(img)\n",
    "            plt.axis('off')\n",
    "            plt.show()\n",
    "            break \n",
    "            \n",
    "            \n",
    "    elif spelling_word.lower() == \"quit\":\n",
    "        print(\"Game over. You Quit.\")\n",
    "        import matplotlib.pyplot as plt\n",
    "        import matplotlib.image as mpimg\n",
    "        img=mpimg.imread('quitphoto.png')\n",
    "        imgplot = plt.imshow(img)\n",
    "        plt.axis('off')\n",
    "        plt.show()\n",
    "        break\n",
    "        \n",
    "        \n",
    "    else:\n",
    "        prRed(\"INCORRECT\")\n",
    "        print(\"Correct Spelling:\", word)\n",
    "        lives = lives - 1 \n",
    "        print(\"You have\", lives, \"life left!\")\n",
    "        if lives == 0:\n",
    "            print(\"Sorry you lost! Try Again!\")\n",
    "            import matplotlib.pyplot as plt\n",
    "            import matplotlib.image as mpimg\n",
    "            img=mpimg.imread('losephoto.png')\n",
    "            imgplot = plt.imshow(img)\n",
    "            plt.axis('off')\n",
    "            plt.show()\n",
    "            break\n",
    "            \n",
    "\n",
    "\n",
    "    \n",
    "\n",
    "    \n",
    "\n",
    "\n",
    "\n",
    "\n",
    "    \n"
   ]
  },
  {
   "cell_type": "code",
   "execution_count": null,
   "metadata": {},
   "outputs": [],
   "source": []
  },
  {
   "cell_type": "code",
   "execution_count": null,
   "metadata": {},
   "outputs": [],
   "source": []
  }
 ],
 "metadata": {
  "kernelspec": {
   "display_name": "Python 3",
   "language": "python",
   "name": "python3"
  },
  "language_info": {
   "codemirror_mode": {
    "name": "ipython",
    "version": 3
   },
   "file_extension": ".py",
   "mimetype": "text/x-python",
   "name": "python",
   "nbconvert_exporter": "python",
   "pygments_lexer": "ipython3",
   "version": "3.6.6"
  }
 },
 "nbformat": 4,
 "nbformat_minor": 2
}
